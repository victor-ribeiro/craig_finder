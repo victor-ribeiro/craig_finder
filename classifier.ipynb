{
 "cells": [
  {
   "cell_type": "code",
   "execution_count": 1,
   "id": "0417693e-650c-40c9-aca5-4098d4d2d6a8",
   "metadata": {},
   "outputs": [],
   "source": [
    "import torch as T\n",
    "from torch.optim import Adam, SGD\n",
    "from torch import nn\n",
    "from model.classifier import Classifier, Epoch, train\n",
    "import pandas as pd\n",
    "from pathlib import Path\n",
    "import warnings\n",
    "import numpy as np\n",
    "import seaborn as sns"
   ]
  },
  {
   "cell_type": "code",
   "execution_count": 2,
   "id": "91f63b2e-bc1a-40e3-84cf-3178e5268025",
   "metadata": {},
   "outputs": [],
   "source": [
    "warnings.filterwarnings('ignore')"
   ]
  },
  {
   "cell_type": "code",
   "execution_count": 3,
   "id": "ea6ae385-e822-4691-9366-6a4edb002bb9",
   "metadata": {},
   "outputs": [],
   "source": [
    "from sklearn.preprocessing import Normalizer\n",
    "\n",
    "\n",
    "class ClassifierDataset(T.utils.data.Dataset):\n",
    "    def __init__(self, dataframe, target, *args, **kwargs):\n",
    "        super().__init__(*args, **kwargs)\n",
    "        self.dataframe = dataframe\n",
    "        self.target = target\n",
    "        self.features = dataframe.columns.drop(target)\n",
    "\n",
    "    def __getitem__(self, index):\n",
    "        scaler = Normalizer()\n",
    "        item = self.dataframe.iloc[index]\n",
    "        features = np.float32(item[self.features].to_numpy())\n",
    "        labels = np.float32(item[self.target])\n",
    "        # print(features)\n",
    "        return features, labels\n",
    "\n",
    "    def __len__(self):\n",
    "        return len(self.dataframe)"
   ]
  },
  {
   "cell_type": "code",
   "execution_count": 4,
   "id": "499a7c52-95a5-43f6-807c-db2991587b2a",
   "metadata": {},
   "outputs": [
    {
     "data": {
      "text/html": [
       "<div>\n",
       "<style scoped>\n",
       "    .dataframe tbody tr th:only-of-type {\n",
       "        vertical-align: middle;\n",
       "    }\n",
       "\n",
       "    .dataframe tbody tr th {\n",
       "        vertical-align: top;\n",
       "    }\n",
       "\n",
       "    .dataframe thead th {\n",
       "        text-align: right;\n",
       "    }\n",
       "</style>\n",
       "<table border=\"1\" class=\"dataframe\">\n",
       "  <thead>\n",
       "    <tr style=\"text-align: right;\">\n",
       "      <th></th>\n",
       "      <th>Education</th>\n",
       "      <th>JoiningYear</th>\n",
       "      <th>PaymentTier</th>\n",
       "      <th>Age</th>\n",
       "      <th>ExperienceInCurrentDomain</th>\n",
       "      <th>LeaveOrNot</th>\n",
       "      <th>Gender_Female</th>\n",
       "      <th>Gender_Male</th>\n",
       "      <th>EverBenched_No</th>\n",
       "      <th>EverBenched_Yes</th>\n",
       "      <th>City_Bangalore</th>\n",
       "      <th>City_New Delhi</th>\n",
       "      <th>City_Pune</th>\n",
       "    </tr>\n",
       "  </thead>\n",
       "  <tbody>\n",
       "    <tr>\n",
       "      <th>0</th>\n",
       "      <td>0</td>\n",
       "      <td>1</td>\n",
       "      <td>3</td>\n",
       "      <td>34</td>\n",
       "      <td>0</td>\n",
       "      <td>0</td>\n",
       "      <td>0.0</td>\n",
       "      <td>1.0</td>\n",
       "      <td>1.0</td>\n",
       "      <td>0.0</td>\n",
       "      <td>1.0</td>\n",
       "      <td>0.0</td>\n",
       "      <td>0.0</td>\n",
       "    </tr>\n",
       "    <tr>\n",
       "      <th>1</th>\n",
       "      <td>0</td>\n",
       "      <td>5</td>\n",
       "      <td>1</td>\n",
       "      <td>28</td>\n",
       "      <td>3</td>\n",
       "      <td>1</td>\n",
       "      <td>1.0</td>\n",
       "      <td>0.0</td>\n",
       "      <td>1.0</td>\n",
       "      <td>0.0</td>\n",
       "      <td>0.0</td>\n",
       "      <td>0.0</td>\n",
       "      <td>1.0</td>\n",
       "    </tr>\n",
       "    <tr>\n",
       "      <th>2</th>\n",
       "      <td>0</td>\n",
       "      <td>4</td>\n",
       "      <td>3</td>\n",
       "      <td>38</td>\n",
       "      <td>2</td>\n",
       "      <td>0</td>\n",
       "      <td>1.0</td>\n",
       "      <td>0.0</td>\n",
       "      <td>1.0</td>\n",
       "      <td>0.0</td>\n",
       "      <td>0.0</td>\n",
       "      <td>1.0</td>\n",
       "      <td>0.0</td>\n",
       "    </tr>\n",
       "    <tr>\n",
       "      <th>3</th>\n",
       "      <td>1</td>\n",
       "      <td>2</td>\n",
       "      <td>3</td>\n",
       "      <td>27</td>\n",
       "      <td>5</td>\n",
       "      <td>1</td>\n",
       "      <td>0.0</td>\n",
       "      <td>1.0</td>\n",
       "      <td>1.0</td>\n",
       "      <td>0.0</td>\n",
       "      <td>1.0</td>\n",
       "      <td>0.0</td>\n",
       "      <td>0.0</td>\n",
       "    </tr>\n",
       "    <tr>\n",
       "      <th>4</th>\n",
       "      <td>1</td>\n",
       "      <td>1</td>\n",
       "      <td>3</td>\n",
       "      <td>24</td>\n",
       "      <td>2</td>\n",
       "      <td>1</td>\n",
       "      <td>0.0</td>\n",
       "      <td>1.0</td>\n",
       "      <td>0.0</td>\n",
       "      <td>1.0</td>\n",
       "      <td>0.0</td>\n",
       "      <td>0.0</td>\n",
       "      <td>1.0</td>\n",
       "    </tr>\n",
       "  </tbody>\n",
       "</table>\n",
       "</div>"
      ],
      "text/plain": [
       "   Education  JoiningYear  PaymentTier  Age  ExperienceInCurrentDomain  \\\n",
       "0          0            1            3   34                          0   \n",
       "1          0            5            1   28                          3   \n",
       "2          0            4            3   38                          2   \n",
       "3          1            2            3   27                          5   \n",
       "4          1            1            3   24                          2   \n",
       "\n",
       "   LeaveOrNot  Gender_Female  Gender_Male  EverBenched_No  EverBenched_Yes  \\\n",
       "0           0            0.0          1.0             1.0              0.0   \n",
       "1           1            1.0          0.0             1.0              0.0   \n",
       "2           0            1.0          0.0             1.0              0.0   \n",
       "3           1            0.0          1.0             1.0              0.0   \n",
       "4           1            0.0          1.0             0.0              1.0   \n",
       "\n",
       "   City_Bangalore  City_New Delhi  City_Pune  \n",
       "0             1.0             0.0        0.0  \n",
       "1             0.0             0.0        1.0  \n",
       "2             0.0             1.0        0.0  \n",
       "3             1.0             0.0        0.0  \n",
       "4             0.0             0.0        1.0  "
      ]
     },
     "execution_count": 4,
     "metadata": {},
     "output_type": "execute_result"
    }
   ],
   "source": [
    "DATA_ROOT = Path('data', 'employee', 't_Employee.csv')\n",
    "data = pd.read_csv(DATA_ROOT)\n",
    "target = 'LeaveOrNot'\n",
    "\n",
    "data.head()"
   ]
  },
  {
   "cell_type": "markdown",
   "id": "56a43b09",
   "metadata": {},
   "source": [
    "# Train x Test split"
   ]
  },
  {
   "cell_type": "code",
   "execution_count": 5,
   "id": "a5762711",
   "metadata": {},
   "outputs": [
    {
     "name": "stderr",
     "output_type": "stream",
     "text": [
      "100%|██████████| 5/5 [00:02<00:00,  1.84it/s]\n"
     ]
    },
    {
     "data": {
      "text/plain": [
       "[<matplotlib.lines.Line2D at 0x28ca1df40>]"
      ]
     },
     "execution_count": 5,
     "metadata": {},
     "output_type": "execute_result"
    },
    {
     "data": {
      "image/png": "[encoded data removed]",
      "text/plain": [
       "<Figure size 640x480 with 1 Axes>"
      ]
     },
     "metadata": {},
     "output_type": "display_data"
    }
   ],
   "source": [
    "loader_test = ClassifierDataset(dataframe=data, target=target)\n",
    "\n",
    "# retorna subsets\n",
    "train_data, test_data, val_data = T.utils.data.random_split(\n",
    "    dataset=loader_test, lengths=[0.7, 0.2, 0.1], generator=T.Generator(device=\"cpu\")\n",
    ")\n",
    "\n",
    "train_data = T.utils.data.DataLoader(train_data, batch_size=64, shuffle=True)\n",
    "test_data = T.utils.data.DataLoader(test_data, batch_size=64, shuffle=False)\n",
    "\n",
    "def init_weight(module: nn.Module) -> None:\n",
    "    if isinstance(module, nn.Linear):\n",
    "        nn.init.xavier_uniform(module.weight)\n",
    "        module.bias.data.fill_(0.01)\n",
    "\n",
    "\n",
    "n_features = data.shape[1] - 1\n",
    "\n",
    "model = Classifier()\n",
    "\n",
    "\n",
    "epoch = Epoch()\n",
    "loss_fn = nn.BCELoss()  # BinaryCrossentropyLoss\n",
    "optmizer = SGD(params=model.parameters(), lr=10e-2, momentum=.9)\n",
    "\n",
    "hist = train(\n",
    "    model=model,\n",
    "    train_data=train_data,\n",
    "    val_data=test_data,\n",
    "    loss_fn=loss_fn,\n",
    "    optimizer=optmizer,\n",
    "    n_epochs=5,\n",
    ")\n",
    "import matplotlib.pyplot as plt\n",
    "\n",
    "plt.plot(hist[\"val_loss\"])\n",
    "plt.plot(hist[\"train_loss\"])"
   ]
  },
  {
   "cell_type": "code",
   "execution_count": 6,
   "id": "c7c659c5",
   "metadata": {},
   "outputs": [],
   "source": [
    "from DeepCore.deepcore.methods.craig import Craig"
   ]
  },
  {
   "cell_type": "code",
   "execution_count": 7,
   "id": "5a70c401",
   "metadata": {},
   "outputs": [],
   "source": [
    "import DeepCore.deepcore.methods as methods"
   ]
  },
  {
   "cell_type": "code",
   "execution_count": 8,
   "id": "db1a35ac",
   "metadata": {},
   "outputs": [
    {
     "data": {
      "text/plain": [
       "dict_keys(['__name__', '__doc__', '__package__', '__loader__', '__spec__', '__path__', '__file__', '__cached__', '__builtins__', 'coresetmethod', 'earlytrain', 'methods_utils', 'cal', 'EarlyTrain', 'euclidean_dist_pair_np', 'cossim_pair_np', 'np', 'torch', 'nets', 'deepcopy', 'transforms', 'Cal', 'kcentergreedy', 'contextualdiversity', 'kCenterGreedy', 'ContextualDiversity', 'CoresetMethod', 'craig', 'FacilityLocation', 'submodular_optimizer', 'MyDataParallel', 'Craig', 'deepfool', 'DeepFool', 'time', 'nn', 'forgetting', 'Forgetting', 'full', 'Full', 'glister', 'Glister', 'grand', 'GraNd', 'gradmatch', 'lstsq', 'nnls', 'GradMatch', 'herding', 'euclidean_dist', 'Herding', 'k_center_greedy', 'submodular', 'cossim_np', 'submodular_function', 'Submodular', 'uncertainty', 'Uncertainty', 'uniform', 'Uniform'])"
      ]
     },
     "execution_count": 8,
     "metadata": {},
     "output_type": "execute_result"
    }
   ],
   "source": [
    "methods.__dict__.keys()"
   ]
  },
  {
   "cell_type": "code",
   "execution_count": 9,
   "id": "91e374d9",
   "metadata": {},
   "outputs": [
    {
     "data": {
      "text/plain": [
       "DeepCore.deepcore.methods.glister.Glister"
      ]
     },
     "execution_count": 9,
     "metadata": {},
     "output_type": "execute_result"
    }
   ],
   "source": [
    "methods.__dict__['Glister']"
   ]
  },
  {
   "cell_type": "code",
   "execution_count": 10,
   "id": "4b59e1ed",
   "metadata": {},
   "outputs": [
    {
     "data": {
      "text/plain": [
       "DeepCore.deepcore.methods.craig.Craig"
      ]
     },
     "execution_count": 10,
     "metadata": {},
     "output_type": "execute_result"
    }
   ],
   "source": [
    "methods.__dict__['Craig']"
   ]
  },
  {
   "cell_type": "code",
   "execution_count": 11,
   "id": "5a6c48da",
   "metadata": {},
   "outputs": [],
   "source": [
    "import model"
   ]
  },
  {
   "cell_type": "code",
   "execution_count": 12,
   "id": "c8839f04",
   "metadata": {},
   "outputs": [
    {
     "data": {
      "text/plain": [
       "model.classifier.Classifier"
      ]
     },
     "execution_count": 12,
     "metadata": {},
     "output_type": "execute_result"
    }
   ],
   "source": [
    "model.__dict__['Classifier']"
   ]
  },
  {
   "cell_type": "code",
   "execution_count": null,
   "id": "f09c87a6",
   "metadata": {},
   "outputs": [],
   "source": []
  }
 ],
 "metadata": {
  "kernelspec": {
   "display_name": "Python 3 (ipykernel)",
   "language": "python",
   "name": "python3"
  },
  "language_info": {
   "codemirror_mode": {
    "name": "ipython",
    "version": 3
   },
   "file_extension": ".py",
   "mimetype": "text/x-python",
   "name": "python",
   "nbconvert_exporter": "python",
   "pygments_lexer": "ipython3",
   "version": "3.9.18"
  }
 },
 "nbformat": 4,
 "nbformat_minor": 5
}
